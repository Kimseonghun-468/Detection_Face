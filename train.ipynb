{
 "cells": [
  {
   "cell_type": "code",
   "execution_count": 1,
   "metadata": {},
   "outputs": [],
   "source": [
    "import datetime\n",
    "import numpy as np\n",
    "import matplotlib.pyplot as plt\n",
    "from keras.layers import Input, Activation, Conv2D, Flatten, Dense, MaxPooling2D\n",
    "from keras.models import Model, load_model\n",
    "from keras.preprocessing.image import ImageDataGenerator\n",
    "from keras.callbacks import ModelCheckpoint, ReduceLROnPlateau\n",
    "plt.style.use('dark_background')"
   ]
  },
  {
   "cell_type": "markdown",
   "metadata": {},
   "source": [
    "# Load Dataset"
   ]
  },
  {
   "cell_type": "code",
   "execution_count": 2,
   "metadata": {},
   "outputs": [
    {
     "name": "stdout",
     "output_type": "stream",
     "text": [
      "(2586, 26, 34, 1) (2586, 1)\n",
      "(288, 26, 34, 1) (288, 1)\n"
     ]
    }
   ],
   "source": [
    "x_train = np.load('dataset/x_train.npy').astype(np.float32)\n",
    "y_train = np.load('dataset/y_train.npy').astype(np.float32)\n",
    "x_val = np.load('dataset/x_val.npy').astype(np.float32)\n",
    "y_val = np.load('dataset/y_val.npy').astype(np.float32)\n",
    "\n",
    "print(x_train.shape, y_train.shape)\n",
    "print(x_val.shape, y_val.shape)"
   ]
  },
  {
   "cell_type": "markdown",
   "metadata": {},
   "source": [
    "# Preview"
   ]
  },
  {
   "cell_type": "code",
   "execution_count": 3,
   "metadata": {},
   "outputs": [
    {
     "data": {
      "text/plain": [
       "<matplotlib.image.AxesImage at 0x269f4f3c948>"
      ]
     },
     "execution_count": 3,
     "metadata": {},
     "output_type": "execute_result"
    },
    {
     "data": {
      "image/png": "[encoded data removed]",
      "text/plain": [
       "<Figure size 432x288 with 2 Axes>"
      ]
     },
     "metadata": {
      "needs_background": "dark"
     },
     "output_type": "display_data"
    }
   ],
   "source": [
    "plt.subplot(2, 1, 1)\n",
    "plt.title(str(y_train[0]))\n",
    "plt.imshow(x_train[0].reshape((26, 34)), cmap='gray')\n",
    "plt.subplot(2, 1, 2)\n",
    "plt.title(str(y_val[4]))\n",
    "plt.imshow(x_val[4].reshape((26, 34)), cmap='gray')"
   ]
  },
  {
   "cell_type": "markdown",
   "metadata": {},
   "source": [
    "# Data Augmentation"
   ]
  },
  {
   "cell_type": "code",
   "execution_count": 4,
   "metadata": {},
   "outputs": [],
   "source": [
    "train_datagen = ImageDataGenerator(\n",
    "    rescale=1./255,\n",
    "    rotation_range=10,\n",
    "    width_shift_range=0.2,\n",
    "    height_shift_range=0.2,\n",
    "    shear_range=0.2\n",
    ")\n",
    "\n",
    "val_datagen = ImageDataGenerator(rescale=1./255)\n",
    "\n",
    "train_generator = train_datagen.flow(\n",
    "    x=x_train, y=y_train,\n",
    "    batch_size=32,\n",
    "    shuffle=True\n",
    ")\n",
    "\n",
    "val_generator = val_datagen.flow(\n",
    "    x=x_val, y=y_val,\n",
    "    batch_size=32,\n",
    "    shuffle=False\n",
    ")"
   ]
  },
  {
   "cell_type": "markdown",
   "metadata": {},
   "source": [
    "# Build Model"
   ]
  },
  {
   "cell_type": "code",
   "execution_count": 5,
   "metadata": {},
   "outputs": [
    {
     "name": "stdout",
     "output_type": "stream",
     "text": [
      "Model: \"model\"\n",
      "_________________________________________________________________\n",
      "Layer (type)                 Output Shape              Param #   \n",
      "=================================================================\n",
      "input_1 (InputLayer)         [(None, 26, 34, 1)]       0         \n",
      "_________________________________________________________________\n",
      "conv2d (Conv2D)              (None, 26, 34, 32)        320       \n",
      "_________________________________________________________________\n",
      "max_pooling2d (MaxPooling2D) (None, 13, 17, 32)        0         \n",
      "_________________________________________________________________\n",
      "conv2d_1 (Conv2D)            (None, 13, 17, 64)        18496     \n",
      "_________________________________________________________________\n",
      "max_pooling2d_1 (MaxPooling2 (None, 6, 8, 64)          0         \n",
      "_________________________________________________________________\n",
      "conv2d_2 (Conv2D)            (None, 6, 8, 128)         73856     \n",
      "_________________________________________________________________\n",
      "max_pooling2d_2 (MaxPooling2 (None, 3, 4, 128)         0         \n",
      "_________________________________________________________________\n",
      "flatten (Flatten)            (None, 1536)              0         \n",
      "_________________________________________________________________\n",
      "dense (Dense)                (None, 512)               786944    \n",
      "_________________________________________________________________\n",
      "activation (Activation)      (None, 512)               0         \n",
      "_________________________________________________________________\n",
      "dense_1 (Dense)              (None, 1)                 513       \n",
      "_________________________________________________________________\n",
      "activation_1 (Activation)    (None, 1)                 0         \n",
      "=================================================================\n",
      "Total params: 880,129\n",
      "Trainable params: 880,129\n",
      "Non-trainable params: 0\n",
      "_________________________________________________________________\n"
     ]
    }
   ],
   "source": [
    "inputs = Input(shape=(26, 34, 1))\n",
    "\n",
    "net = Conv2D(32, kernel_size=3, strides=1, padding='same', activation='relu')(inputs)\n",
    "net = MaxPooling2D(pool_size=2)(net)\n",
    "\n",
    "net = Conv2D(64, kernel_size=3, strides=1, padding='same', activation='relu')(net)\n",
    "net = MaxPooling2D(pool_size=2)(net)\n",
    "\n",
    "net = Conv2D(128, kernel_size=3, strides=1, padding='same', activation='relu')(net)\n",
    "net = MaxPooling2D(pool_size=2)(net)\n",
    "\n",
    "net = Flatten()(net)\n",
    "\n",
    "net = Dense(512)(net)\n",
    "net = Activation('relu')(net)\n",
    "net = Dense(1)(net)\n",
    "outputs = Activation('sigmoid')(net)\n",
    "\n",
    "model = Model(inputs=inputs, outputs=outputs)\n",
    "\n",
    "model.compile(optimizer='adam', loss='binary_crossentropy', metrics=['acc'])\n",
    "\n",
    "model.summary()"
   ]
  },
  {
   "cell_type": "markdown",
   "metadata": {},
   "source": [
    "# Train"
   ]
  },
  {
   "cell_type": "code",
   "execution_count": 7,
   "metadata": {
    "scrolled": true
   },
   "outputs": [
    {
     "name": "stdout",
     "output_type": "stream",
     "text": [
      "WARNING:tensorflow:From <ipython-input-7-303b1247d547>:7: Model.fit_generator (from tensorflow.python.keras.engine.training) is deprecated and will be removed in a future version.\n",
      "Instructions for updating:\n",
      "Please use Model.fit, which supports generators.\n",
      "Epoch 1/50\n",
      "81/81 [==============================] - ETA: 0s - loss: 0.4888 - acc: 0.7533\n",
      "Epoch 00001: val_acc improved from -inf to 0.91667, saving model to models/2021_05_23_14_02_11.h5\n",
      "81/81 [==============================] - 5s 65ms/step - loss: 0.4888 - acc: 0.7533 - val_loss: 0.2805 - val_acc: 0.9167 - lr: 0.0010\n",
      "Epoch 2/50\n",
      "81/81 [==============================] - ETA: 0s - loss: 0.2768 - acc: 0.8917\n",
      "Epoch 00002: val_acc improved from 0.91667 to 0.93750, saving model to models/2021_05_23_14_02_11.h5\n",
      "81/81 [==============================] - 4s 55ms/step - loss: 0.2768 - acc: 0.8917 - val_loss: 0.1546 - val_acc: 0.9375 - lr: 0.0010\n",
      "Epoch 3/50\n",
      "81/81 [==============================] - ETA: 0s - loss: 0.1588 - acc: 0.9408\n",
      "Epoch 00003: val_acc improved from 0.93750 to 0.94792, saving model to models/2021_05_23_14_02_11.h5\n",
      "81/81 [==============================] - 4s 54ms/step - loss: 0.1588 - acc: 0.9408 - val_loss: 0.1049 - val_acc: 0.9479 - lr: 0.0010\n",
      "Epoch 4/50\n",
      "80/81 [============================>.] - ETA: 0s - loss: 0.1454 - acc: 0.9514\n",
      "Epoch 00004: val_acc improved from 0.94792 to 0.98958, saving model to models/2021_05_23_14_02_11.h5\n",
      "81/81 [==============================] - 4s 55ms/step - loss: 0.1447 - acc: 0.9517 - val_loss: 0.0614 - val_acc: 0.9896 - lr: 0.0010\n",
      "Epoch 5/50\n",
      "80/81 [============================>.] - ETA: 0s - loss: 0.1122 - acc: 0.9612\n",
      "Epoch 00005: val_acc did not improve from 0.98958\n",
      "81/81 [==============================] - 4s 52ms/step - loss: 0.1112 - acc: 0.9617 - val_loss: 0.0562 - val_acc: 0.9757 - lr: 0.0010\n",
      "Epoch 6/50\n",
      "80/81 [============================>.] - ETA: 0s - loss: 0.1068 - acc: 0.9648\n",
      "Epoch 00006: val_acc did not improve from 0.98958\n",
      "81/81 [==============================] - 4s 54ms/step - loss: 0.1063 - acc: 0.9652 - val_loss: 0.0508 - val_acc: 0.9861 - lr: 0.0010\n",
      "Epoch 7/50\n",
      "81/81 [==============================] - ETA: 0s - loss: 0.0989 - acc: 0.9671\n",
      "Epoch 00007: val_acc did not improve from 0.98958\n",
      "81/81 [==============================] - 5s 66ms/step - loss: 0.0989 - acc: 0.9671 - val_loss: 0.0535 - val_acc: 0.9792 - lr: 0.0010\n",
      "Epoch 8/50\n",
      "81/81 [==============================] - ETA: 0s - loss: 0.0712 - acc: 0.9772\n",
      "Epoch 00008: val_acc did not improve from 0.98958\n",
      "81/81 [==============================] - 4s 53ms/step - loss: 0.0712 - acc: 0.9772 - val_loss: 0.0330 - val_acc: 0.9861 - lr: 0.0010\n",
      "Epoch 9/50\n",
      "81/81 [==============================] - ETA: 0s - loss: 0.0914 - acc: 0.9706\n",
      "Epoch 00009: val_acc did not improve from 0.98958\n",
      "81/81 [==============================] - 5s 56ms/step - loss: 0.0914 - acc: 0.9706 - val_loss: 0.0525 - val_acc: 0.9896 - lr: 0.0010\n",
      "Epoch 10/50\n",
      "81/81 [==============================] - ETA: 0s - loss: 0.0689 - acc: 0.9756\n",
      "Epoch 00010: val_acc did not improve from 0.98958\n",
      "81/81 [==============================] - 7s 82ms/step - loss: 0.0689 - acc: 0.9756 - val_loss: 0.0503 - val_acc: 0.9826 - lr: 0.0010\n",
      "Epoch 11/50\n",
      "81/81 [==============================] - ETA: 0s - loss: 0.0669 - acc: 0.9814\n",
      "Epoch 00011: val_acc did not improve from 0.98958\n",
      "81/81 [==============================] - 7s 88ms/step - loss: 0.0669 - acc: 0.9814 - val_loss: 0.0375 - val_acc: 0.9861 - lr: 0.0010\n",
      "Epoch 12/50\n",
      "81/81 [==============================] - ETA: 0s - loss: 0.0540 - acc: 0.9826\n",
      "Epoch 00012: val_acc did not improve from 0.98958\n",
      "81/81 [==============================] - 6s 79ms/step - loss: 0.0540 - acc: 0.9826 - val_loss: 0.0325 - val_acc: 0.9861 - lr: 0.0010\n",
      "Epoch 13/50\n",
      "81/81 [==============================] - ETA: 0s - loss: 0.0569 - acc: 0.9822\n",
      "Epoch 00013: val_acc did not improve from 0.98958\n",
      "81/81 [==============================] - 6s 74ms/step - loss: 0.0569 - acc: 0.9822 - val_loss: 0.0437 - val_acc: 0.9861 - lr: 0.0010\n",
      "Epoch 14/50\n",
      "81/81 [==============================] - ETA: 0s - loss: 0.0430 - acc: 0.9865\n",
      "Epoch 00014: val_acc improved from 0.98958 to 0.99306, saving model to models/2021_05_23_14_02_11.h5\n",
      "81/81 [==============================] - 6s 73ms/step - loss: 0.0430 - acc: 0.9865 - val_loss: 0.0271 - val_acc: 0.9931 - lr: 0.0010\n",
      "Epoch 15/50\n",
      "81/81 [==============================] - ETA: 0s - loss: 0.0389 - acc: 0.9884\n",
      "Epoch 00015: val_acc did not improve from 0.99306\n",
      "81/81 [==============================] - 6s 70ms/step - loss: 0.0389 - acc: 0.9884 - val_loss: 0.0326 - val_acc: 0.9826 - lr: 0.0010\n",
      "Epoch 16/50\n",
      "81/81 [==============================] - ETA: 0s - loss: 0.0365 - acc: 0.9869\n",
      "Epoch 00016: val_acc improved from 0.99306 to 0.99653, saving model to models/2021_05_23_14_02_11.h5\n",
      "81/81 [==============================] - 6s 76ms/step - loss: 0.0365 - acc: 0.9869 - val_loss: 0.0111 - val_acc: 0.9965 - lr: 0.0010\n",
      "Epoch 17/50\n",
      "81/81 [==============================] - ETA: 0s - loss: 0.0431 - acc: 0.9826\n",
      "Epoch 00017: val_acc did not improve from 0.99653\n",
      "81/81 [==============================] - 5s 65ms/step - loss: 0.0431 - acc: 0.9826 - val_loss: 0.0207 - val_acc: 0.9931 - lr: 0.0010\n",
      "Epoch 18/50\n",
      "81/81 [==============================] - ETA: 0s - loss: 0.0414 - acc: 0.9880\n",
      "Epoch 00018: val_acc did not improve from 0.99653\n",
      "81/81 [==============================] - 5s 65ms/step - loss: 0.0414 - acc: 0.9880 - val_loss: 0.0317 - val_acc: 0.9861 - lr: 0.0010\n",
      "Epoch 19/50\n",
      "81/81 [==============================] - ETA: 0s - loss: 0.0354 - acc: 0.9855- ETA: 1s - loss: 0.0 - ETA: 0s - loss: 0.0351 - acc: 0.9857\n",
      "Epoch 00019: val_acc did not improve from 0.99653\n",
      "81/81 [==============================] - 5s 67ms/step - loss: 0.0351 - acc: 0.9857 - val_loss: 0.0360 - val_acc: 0.9861 - lr: 0.0010\n",
      "Epoch 20/50\n",
      "81/81 [==============================] - ETA: 0s - loss: 0.0291 - acc: 0.9899\n",
      "Epoch 00020: val_acc did not improve from 0.99653\n",
      "81/81 [==============================] - 5s 64ms/step - loss: 0.0291 - acc: 0.9899 - val_loss: 0.0156 - val_acc: 0.9931 - lr: 0.0010\n",
      "Epoch 21/50\n",
      "81/81 [==============================] - ETA: 0s - loss: 0.0275 - acc: 0.9911\n",
      "Epoch 00021: val_acc did not improve from 0.99653\n",
      "81/81 [==============================] - 5s 65ms/step - loss: 0.0275 - acc: 0.9911 - val_loss: 0.0165 - val_acc: 0.9965 - lr: 0.0010\n",
      "Epoch 22/50\n",
      "81/81 [==============================] - ETA: 0s - loss: 0.0360 - acc: 0.9896\n",
      "Epoch 00022: val_acc did not improve from 0.99653\n",
      "81/81 [==============================] - 5s 67ms/step - loss: 0.0360 - acc: 0.9896 - val_loss: 0.0175 - val_acc: 0.9931 - lr: 0.0010\n",
      "Epoch 23/50\n",
      "81/81 [==============================] - ETA: 0s - loss: 0.0241 - acc: 0.9919\n",
      "Epoch 00023: val_acc did not improve from 0.99653\n",
      "81/81 [==============================] - 6s 68ms/step - loss: 0.0241 - acc: 0.9919 - val_loss: 0.0138 - val_acc: 0.9965 - lr: 0.0010\n",
      "Epoch 24/50\n",
      "81/81 [==============================] - ETA: 0s - loss: 0.0268 - acc: 0.9907- ETA: 1s - loss: 0.0199 - - ETA: 0s - loss: 0.0278 - a\n",
      "Epoch 00024: val_acc did not improve from 0.99653\n",
      "81/81 [==============================] - 5s 65ms/step - loss: 0.0268 - acc: 0.9907 - val_loss: 0.0218 - val_acc: 0.9931 - lr: 0.0010\n",
      "Epoch 25/50\n",
      "81/81 [==============================] - ETA: 0s - loss: 0.0258 - acc: 0.9919\n",
      "Epoch 00025: val_acc did not improve from 0.99653\n",
      "81/81 [==============================] - 5s 64ms/step - loss: 0.0258 - acc: 0.9919 - val_loss: 0.0524 - val_acc: 0.9826 - lr: 0.0010\n",
      "Epoch 26/50\n",
      "81/81 [==============================] - ETA: 0s - loss: 0.0275 - acc: 0.9919\n",
      "Epoch 00026: val_acc did not improve from 0.99653\n",
      "\n",
      "Epoch 00026: ReduceLROnPlateau reducing learning rate to 0.00020000000949949026.\n",
      "81/81 [==============================] - 7s 82ms/step - loss: 0.0275 - acc: 0.9919 - val_loss: 0.0149 - val_acc: 0.9896 - lr: 0.0010\n",
      "Epoch 27/50\n",
      "81/81 [==============================] - ETA: 0s - loss: 0.0171 - acc: 0.9938\n",
      "Epoch 00027: val_acc did not improve from 0.99653\n",
      "81/81 [==============================] - 8s 100ms/step - loss: 0.0171 - acc: 0.9938 - val_loss: 0.0110 - val_acc: 0.9931 - lr: 2.0000e-04\n",
      "Epoch 28/50\n"
     ]
    },
    {
     "name": "stdout",
     "output_type": "stream",
     "text": [
      "81/81 [==============================] - ETA: 0s - loss: 0.0139 - acc: 0.9957\n",
      "Epoch 00028: val_acc did not improve from 0.99653\n",
      "81/81 [==============================] - 8s 94ms/step - loss: 0.0139 - acc: 0.9957 - val_loss: 0.0102 - val_acc: 0.9931 - lr: 2.0000e-04\n",
      "Epoch 29/50\n",
      "81/81 [==============================] - ETA: 0s - loss: 0.0178 - acc: 0.9946\n",
      "Epoch 00029: val_acc did not improve from 0.99653\n",
      "81/81 [==============================] - 8s 102ms/step - loss: 0.0178 - acc: 0.9946 - val_loss: 0.0096 - val_acc: 0.9931 - lr: 2.0000e-04\n",
      "Epoch 30/50\n",
      "81/81 [==============================] - ETA: 0s - loss: 0.0114 - acc: 0.9965\n",
      "Epoch 00030: val_acc did not improve from 0.99653\n",
      "81/81 [==============================] - 7s 88ms/step - loss: 0.0114 - acc: 0.9965 - val_loss: 0.0080 - val_acc: 0.9931 - lr: 2.0000e-04\n",
      "Epoch 31/50\n",
      "81/81 [==============================] - ETA: 0s - loss: 0.0118 - acc: 0.9965\n",
      "Epoch 00031: val_acc did not improve from 0.99653\n",
      "81/81 [==============================] - 7s 87ms/step - loss: 0.0118 - acc: 0.9965 - val_loss: 0.0102 - val_acc: 0.9931 - lr: 2.0000e-04\n",
      "Epoch 32/50\n",
      "81/81 [==============================] - ETA: 0s - loss: 0.0094 - acc: 0.9965- ETA\n",
      "Epoch 00032: val_acc did not improve from 0.99653\n",
      "81/81 [==============================] - 7s 92ms/step - loss: 0.0094 - acc: 0.9965 - val_loss: 0.0186 - val_acc: 0.9896 - lr: 2.0000e-04\n",
      "Epoch 33/50\n",
      "81/81 [==============================] - ETA: 0s - loss: 0.0081 - acc: 0.9969\n",
      "Epoch 00033: val_acc did not improve from 0.99653\n",
      "81/81 [==============================] - 7s 83ms/step - loss: 0.0081 - acc: 0.9969 - val_loss: 0.0103 - val_acc: 0.9931 - lr: 2.0000e-04\n",
      "Epoch 34/50\n",
      "81/81 [==============================] - ETA: 0s - loss: 0.0066 - acc: 0.9981\n",
      "Epoch 00034: val_acc did not improve from 0.99653\n",
      "81/81 [==============================] - 6s 69ms/step - loss: 0.0066 - acc: 0.9981 - val_loss: 0.0107 - val_acc: 0.9931 - lr: 2.0000e-04\n",
      "Epoch 35/50\n",
      "81/81 [==============================] - ETA: 0s - loss: 0.0095 - acc: 0.9981\n",
      "Epoch 00035: val_acc did not improve from 0.99653\n",
      "81/81 [==============================] - 6s 76ms/step - loss: 0.0095 - acc: 0.9981 - val_loss: 0.0083 - val_acc: 0.9965 - lr: 2.0000e-04\n",
      "Epoch 36/50\n",
      "81/81 [==============================] - ETA: 0s - loss: 0.0090 - acc: 0.9973\n",
      "Epoch 00036: val_acc did not improve from 0.99653\n",
      "\n",
      "Epoch 00036: ReduceLROnPlateau reducing learning rate to 4.0000001899898055e-05.\n",
      "81/81 [==============================] - 6s 70ms/step - loss: 0.0090 - acc: 0.9973 - val_loss: 0.0119 - val_acc: 0.9931 - lr: 2.0000e-04\n",
      "Epoch 37/50\n",
      "81/81 [==============================] - ETA: 0s - loss: 0.0092 - acc: 0.9969\n",
      "Epoch 00037: val_acc did not improve from 0.99653\n",
      "81/81 [==============================] - 5s 67ms/step - loss: 0.0092 - acc: 0.9969 - val_loss: 0.0123 - val_acc: 0.9931 - lr: 4.0000e-05\n",
      "Epoch 38/50\n",
      "81/81 [==============================] - ETA: 0s - loss: 0.0053 - acc: 0.9981\n",
      "Epoch 00038: val_acc did not improve from 0.99653\n",
      "81/81 [==============================] - 6s 71ms/step - loss: 0.0053 - acc: 0.9981 - val_loss: 0.0123 - val_acc: 0.9931 - lr: 4.0000e-05\n",
      "Epoch 39/50\n",
      "81/81 [==============================] - ETA: 0s - loss: 0.0082 - acc: 0.9965\n",
      "Epoch 00039: val_acc did not improve from 0.99653\n",
      "81/81 [==============================] - 5s 67ms/step - loss: 0.0082 - acc: 0.9965 - val_loss: 0.0133 - val_acc: 0.9931 - lr: 4.0000e-05\n",
      "Epoch 40/50\n",
      "81/81 [==============================] - ETA: 0s - loss: 0.0073 - acc: 0.9977\n",
      "Epoch 00040: val_acc did not improve from 0.99653\n",
      "81/81 [==============================] - 7s 81ms/step - loss: 0.0073 - acc: 0.9977 - val_loss: 0.0087 - val_acc: 0.9965 - lr: 4.0000e-05\n",
      "Epoch 41/50\n",
      "81/81 [==============================] - ETA: 0s - loss: 0.0051 - acc: 0.9992\n",
      "Epoch 00041: val_acc did not improve from 0.99653\n",
      "81/81 [==============================] - 6s 75ms/step - loss: 0.0051 - acc: 0.9992 - val_loss: 0.0088 - val_acc: 0.9965 - lr: 4.0000e-05\n",
      "Epoch 42/50\n",
      "81/81 [==============================] - ETA: 0s - loss: 0.0055 - acc: 0.9981\n",
      "Epoch 00042: val_acc did not improve from 0.99653\n",
      "81/81 [==============================] - 5s 64ms/step - loss: 0.0055 - acc: 0.9981 - val_loss: 0.0084 - val_acc: 0.9965 - lr: 4.0000e-05\n",
      "Epoch 43/50\n",
      "81/81 [==============================] - ETA: 0s - loss: 0.0073 - acc: 0.9977\n",
      "Epoch 00043: val_acc did not improve from 0.99653\n",
      "81/81 [==============================] - 5s 63ms/step - loss: 0.0073 - acc: 0.9977 - val_loss: 0.0087 - val_acc: 0.9965 - lr: 4.0000e-05\n",
      "Epoch 44/50\n",
      "81/81 [==============================] - ETA: 0s - loss: 0.0040 - acc: 0.9988\n",
      "Epoch 00044: val_acc did not improve from 0.99653\n",
      "81/81 [==============================] - 5s 66ms/step - loss: 0.0040 - acc: 0.9988 - val_loss: 0.0113 - val_acc: 0.9931 - lr: 4.0000e-05\n",
      "Epoch 45/50\n",
      "81/81 [==============================] - ETA: 0s - loss: 0.0047 - acc: 0.9992\n",
      "Epoch 00045: val_acc did not improve from 0.99653\n",
      "81/81 [==============================] - 7s 81ms/step - loss: 0.0047 - acc: 0.9992 - val_loss: 0.0116 - val_acc: 0.9931 - lr: 4.0000e-05\n",
      "Epoch 46/50\n",
      "81/81 [==============================] - ETA: 0s - loss: 0.0060 - acc: 0.9985\n",
      "Epoch 00046: val_acc did not improve from 0.99653\n",
      "\n",
      "Epoch 00046: ReduceLROnPlateau reducing learning rate to 1e-05.\n",
      "81/81 [==============================] - 12s 143ms/step - loss: 0.0060 - acc: 0.9985 - val_loss: 0.0106 - val_acc: 0.9931 - lr: 4.0000e-05\n",
      "Epoch 47/50\n",
      "81/81 [==============================] - ETA: 0s - loss: 0.0040 - acc: 0.9992\n",
      "Epoch 00047: val_acc did not improve from 0.99653\n",
      "81/81 [==============================] - 9s 114ms/step - loss: 0.0040 - acc: 0.9992 - val_loss: 0.0094 - val_acc: 0.9931 - lr: 1.0000e-05\n",
      "Epoch 48/50\n",
      "81/81 [==============================] - ETA: 0s - loss: 0.0059 - acc: 0.9977\n",
      "Epoch 00048: val_acc did not improve from 0.99653\n",
      "81/81 [==============================] - 9s 111ms/step - loss: 0.0059 - acc: 0.9977 - val_loss: 0.0090 - val_acc: 0.9965 - lr: 1.0000e-05\n",
      "Epoch 49/50\n",
      "81/81 [==============================] - ETA: 0s - loss: 0.0037 - acc: 0.9988- ETA:\n",
      "Epoch 00049: val_acc did not improve from 0.99653\n",
      "81/81 [==============================] - 8s 104ms/step - loss: 0.0037 - acc: 0.9988 - val_loss: 0.0087 - val_acc: 0.9965 - lr: 1.0000e-05\n",
      "Epoch 50/50\n",
      "81/81 [==============================] - ETA: 0s - loss: 0.0062 - acc: 0.9969\n",
      "Epoch 00050: val_acc did not improve from 0.99653\n",
      "81/81 [==============================] - 8s 93ms/step - loss: 0.0062 - acc: 0.9969 - val_loss: 0.0085 - val_acc: 0.9965 - lr: 1.0000e-05\n"
     ]
    },
    {
     "data": {
      "text/plain": [
       "<tensorflow.python.keras.callbacks.History at 0x269f557cd08>"
      ]
     },
     "execution_count": 7,
     "metadata": {},
     "output_type": "execute_result"
    }
   ],
   "source": [
    "start_time = datetime.datetime.now().strftime('%Y_%m_%d_%H_%M_%S')\n",
    "\n",
    "model.fit_generator(\n",
    "    train_generator, epochs=50, validation_data=val_generator,\n",
    "    callbacks=[\n",
    "        ModelCheckpoint('models/%s.h5' % (start_time), monitor='val_acc', save_best_only=True, mode='max', verbose=1),\n",
    "        ReduceLROnPlateau(monitor='val_acc', factor=0.2, patience=10, verbose=1, mode='auto', min_lr=1e-05)\n",
    "    ]\n",
    ")"
   ]
  },
  {
   "cell_type": "markdown",
   "metadata": {},
   "source": [
    "# Confusion Matrix"
   ]
  },
  {
   "cell_type": "code",
   "execution_count": 8,
   "metadata": {},
   "outputs": [
    {
     "name": "stdout",
     "output_type": "stream",
     "text": [
      "test acc: 0.9965277777777778\n"
     ]
    },
    {
     "data": {
      "text/plain": [
       "<matplotlib.axes._subplots.AxesSubplot at 0x2698060b088>"
      ]
     },
     "execution_count": 8,
     "metadata": {},
     "output_type": "execute_result"
    },
    {
     "data": {
      "image/png": "[encoded data removed]",
      "text/plain": [
       "<Figure size 432x288 with 2 Axes>"
      ]
     },
     "metadata": {
      "needs_background": "dark"
     },
     "output_type": "display_data"
    }
   ],
   "source": [
    "from sklearn.metrics import accuracy_score, confusion_matrix\n",
    "import seaborn as sns\n",
    "\n",
    "model = load_model('models/%s.h5' % (start_time))\n",
    "\n",
    "y_pred = model.predict(x_val/255.)\n",
    "y_pred_logical = (y_pred > 0.5).astype(np.int)\n",
    "\n",
    "print ('test acc: %s' % accuracy_score(y_val, y_pred_logical))\n",
    "cm = confusion_matrix(y_val, y_pred_logical)\n",
    "sns.heatmap(cm, annot=True)"
   ]
  },
  {
   "cell_type": "markdown",
   "metadata": {},
   "source": [
    "# Distribution of Prediction"
   ]
  },
  {
   "cell_type": "code",
   "execution_count": 9,
   "metadata": {},
   "outputs": [
    {
     "name": "stderr",
     "output_type": "stream",
     "text": []
    },
    {
     "data": {
      "image/png": "[encoded data removed]",
      "text/plain": [
       "<Figure size 432x288 with 1 Axes>"
      ]
     },
     "metadata": {},
     "output_type": "display_data"
    }
   ],
   "source": [
    "ax = sns.distplot(y_pred, kde=False)"
   ]
  },
  {
   "cell_type": "code",
   "execution_count": null,
   "metadata": {},
   "outputs": [],
   "source": []
  }
 ],
 "metadata": {
  "kernelspec": {
   "display_name": "Python 3",
   "language": "python",
   "name": "python3"
  },
  "language_info": {
   "codemirror_mode": {
    "name": "ipython",
    "version": 3
   },
   "file_extension": ".py",
   "mimetype": "text/x-python",
   "name": "python",
   "nbconvert_exporter": "python",
   "pygments_lexer": "ipython3",
   "version": "3.7.4"
  }
 },
 "nbformat": 4,
 "nbformat_minor": 2
}
