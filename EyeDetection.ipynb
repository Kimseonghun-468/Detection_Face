{
 "cells": [
  {
   "cell_type": "code",
   "execution_count": 1,
   "metadata": {},
   "outputs": [
    {
     "ename": "KeyboardInterrupt",
     "evalue": "",
     "output_type": "error",
     "traceback": [
      "\u001b[1;31m---------------------------------------------------------------------------\u001b[0m",
      "\u001b[1;31mKeyboardInterrupt\u001b[0m                         Traceback (most recent call last)",
      "\u001b[1;32m<ipython-input-1-2ed104cdeb40>\u001b[0m in \u001b[0;36m<module>\u001b[1;34m\u001b[0m\n\u001b[0;32m     65\u001b[0m     \u001b[0mcv2\u001b[0m\u001b[1;33m.\u001b[0m\u001b[0mdestroyAllWindows\u001b[0m\u001b[1;33m(\u001b[0m\u001b[1;33m)\u001b[0m\u001b[1;33m\u001b[0m\u001b[1;33m\u001b[0m\u001b[0m\n\u001b[0;32m     66\u001b[0m \u001b[1;33m\u001b[0m\u001b[0m\n\u001b[1;32m---> 67\u001b[1;33m \u001b[0mfaceDetect\u001b[0m\u001b[1;33m(\u001b[0m\u001b[1;33m)\u001b[0m\u001b[1;33m\u001b[0m\u001b[1;33m\u001b[0m\u001b[0m\n\u001b[0m",
      "\u001b[1;32m<ipython-input-1-2ed104cdeb40>\u001b[0m in \u001b[0;36mfaceDetect\u001b[1;34m()\u001b[0m\n\u001b[0;32m     28\u001b[0m         \u001b[0mfaces\u001b[0m \u001b[1;33m=\u001b[0m \u001b[0mface_cascade\u001b[0m\u001b[1;33m.\u001b[0m\u001b[0mdetectMultiScale\u001b[0m\u001b[1;33m(\u001b[0m\u001b[0mgray\u001b[0m\u001b[1;33m,\u001b[0m\u001b[1;36m1.3\u001b[0m\u001b[1;33m,\u001b[0m \u001b[1;36m5\u001b[0m\u001b[1;33m)\u001b[0m\u001b[1;33m\u001b[0m\u001b[1;33m\u001b[0m\u001b[0m\n\u001b[0;32m     29\u001b[0m \u001b[1;33m\u001b[0m\u001b[0m\n\u001b[1;32m---> 30\u001b[1;33m         \u001b[0mfaces\u001b[0m \u001b[1;33m=\u001b[0m \u001b[0mface_cascade\u001b[0m\u001b[1;33m.\u001b[0m\u001b[0mdetectMultiScale\u001b[0m\u001b[1;33m(\u001b[0m\u001b[0mgray\u001b[0m\u001b[1;33m,\u001b[0m \u001b[1;36m1.3\u001b[0m\u001b[1;33m,\u001b[0m \u001b[1;36m5\u001b[0m\u001b[1;33m)\u001b[0m\u001b[1;33m\u001b[0m\u001b[1;33m\u001b[0m\u001b[0m\n\u001b[0m\u001b[0;32m     31\u001b[0m \u001b[1;33m\u001b[0m\u001b[0m\n\u001b[0;32m     32\u001b[0m         \u001b[1;31m#카메라 영상 왼쪽위에 위에 셋팅된 info 의 내용 출력\u001b[0m\u001b[1;33m\u001b[0m\u001b[1;33m\u001b[0m\u001b[1;33m\u001b[0m\u001b[0m\n",
      "\u001b[1;31mKeyboardInterrupt\u001b[0m: "
     ]
    }
   ],
   "source": [
    "import cv2\n",
    " \n",
    "font = cv2.FONT_ITALIC\n",
    " \n",
    "def faceDetect():\n",
    "    eye_detect = False\n",
    "    face_cascade = cv2.CascadeClassifier(\"./haarcascade_frontalface_default.xml\")  # 얼굴찾기 haar 파일\n",
    "    eye_cascade = cv2.CascadeClassifier(\"./haarcascade_eye.xml\") # 눈찾기 haar 파일\n",
    "    i=0\n",
    "    try:\n",
    "        cam = cv2.VideoCapture(0)\n",
    "    except:\n",
    "        print(\"camera loading error\")\n",
    "        return\n",
    " \n",
    "    while True:\n",
    "        ret, frame = cam.read()\n",
    "       # print(ret, frame.shape)\n",
    "        if not ret:\n",
    "            break\n",
    " \n",
    "        if eye_detect:\n",
    "            info = \"Eye Detention ON\"\n",
    "        else:\n",
    "            info = \"Eye Detection OFF\"\n",
    " \n",
    "        gray = cv2.cvtColor(frame, cv2.COLOR_BGR2GRAY)\n",
    "        faces = face_cascade.detectMultiScale(gray,1.3, 5)\n",
    " \n",
    "        faces = face_cascade.detectMultiScale(gray, 1.3, 5)\n",
    " \n",
    "        #카메라 영상 왼쪽위에 위에 셋팅된 info 의 내용 출력\n",
    "        cv2.putText(frame, info, (5,15), font, 0.5, (255,0, 255),1)\n",
    " \n",
    "        for(x,y, w,h) in faces:\n",
    "            #Model = loadModel(..?.h5)\n",
    "            #a = Model.predcit(얼굴 사진)\n",
    "            \n",
    "            cv2.rectangle(frame, (x,y), (x+w, y+h), (255,0,0), 2)  #사각형 범위\n",
    "            cv2.putText(frame, \"Detected Face\", (x-5, y-5), font, 0.5, (255,255,0),2)  #얼굴찾았다는 메시지\n",
    "            #cv2.putText(frame, \"Detected Face {}\".format(a), (x-5, y-5), font, 0.5, (255,255,0),2)  #얼굴찾았다는 메시지\n",
    "            \n",
    "            if eye_detect:  #눈찾기\n",
    "                roi_gray = gray[y:y+h, x:x+w]\n",
    "                roi_color = frame[y:y+h, x:x+w]\n",
    "                eyes = eye_cascade.detectMultiScale(roi_gray)\n",
    "                for (ex,ey,ew,eh) in eyes:\n",
    "                    cv2.rectangle(roi_color, (ex, ey), (ex+ew, ey+eh), (0,255,0), 2)\n",
    "                    \n",
    "                    #eye_data = roi_color[ey:ey+eh, ex:ex+ew]\n",
    "                    #cv2.imwrite(\"data_{}.jpg\".format(i),eye_data)\n",
    "                    print(\"XXX\")\n",
    "                    #plt.imshow(image)\n",
    "                    #plt.show()\n",
    " \n",
    "        cv2.imshow(\"frame\", frame)\n",
    "        k=cv2.waitKey(30)\n",
    " \n",
    "        #실행 중 키보드 i 를 누르면 눈찾기를 on, off한다.\n",
    "        if k == ord('i'):\n",
    "            eye_detect = not eye_detect\n",
    "        if k == 27:\n",
    "            break\n",
    "    cam.release()\n",
    "    cv2.destroyAllWindows()\n",
    " \n",
    "faceDetect()"
   ]
  },
  {
   "cell_type": "code",
   "execution_count": null,
   "metadata": {},
   "outputs": [
    {
     "name": "stdout",
     "output_type": "stream",
     "text": [
      "Model: \"model_1\"\n",
      "_________________________________________________________________\n",
      "Layer (type)                 Output Shape              Param #   \n",
      "=================================================================\n",
      "input_1 (InputLayer)         [(None, 26, 34, 1)]       0         \n",
      "_________________________________________________________________\n",
      "conv2d_1 (Conv2D)            (None, 26, 34, 32)        320       \n",
      "_________________________________________________________________\n",
      "max_pooling2d_1 (MaxPooling2 (None, 13, 17, 32)        0         \n",
      "_________________________________________________________________\n",
      "conv2d_2 (Conv2D)            (None, 13, 17, 64)        18496     \n",
      "_________________________________________________________________\n",
      "max_pooling2d_2 (MaxPooling2 (None, 6, 8, 64)          0         \n",
      "_________________________________________________________________\n",
      "conv2d_3 (Conv2D)            (None, 6, 8, 128)         73856     \n",
      "_________________________________________________________________\n",
      "max_pooling2d_3 (MaxPooling2 (None, 3, 4, 128)         0         \n",
      "_________________________________________________________________\n",
      "flatten_1 (Flatten)          (None, 1536)              0         \n",
      "_________________________________________________________________\n",
      "dense_1 (Dense)              (None, 512)               786944    \n",
      "_________________________________________________________________\n",
      "activation_1 (Activation)    (None, 512)               0         \n",
      "_________________________________________________________________\n",
      "dense_2 (Dense)              (None, 1)                 513       \n",
      "_________________________________________________________________\n",
      "activation_2 (Activation)    (None, 1)                 0         \n",
      "=================================================================\n",
      "Total params: 880,129\n",
      "Trainable params: 880,129\n",
      "Non-trainable params: 0\n",
      "_________________________________________________________________\n"
     ]
    }
   ],
   "source": [
    "from test import *"
   ]
  },
  {
   "cell_type": "code",
   "execution_count": null,
   "metadata": {},
   "outputs": [],
   "source": []
  },
  {
   "cell_type": "code",
   "execution_count": null,
   "metadata": {},
   "outputs": [],
   "source": []
  }
 ],
 "metadata": {
  "kernelspec": {
   "display_name": "Python 3",
   "language": "python",
   "name": "python3"
  },
  "language_info": {
   "codemirror_mode": {
    "name": "ipython",
    "version": 3
   },
   "file_extension": ".py",
   "mimetype": "text/x-python",
   "name": "python",
   "nbconvert_exporter": "python",
   "pygments_lexer": "ipython3",
   "version": "3.7.4"
  }
 },
 "nbformat": 4,
 "nbformat_minor": 2
}
